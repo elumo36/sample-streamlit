{
 "cells": [
  {
   "cell_type": "code",
   "execution_count": 1,
   "id": "laden-standing",
   "metadata": {},
   "outputs": [],
   "source": [
    "#APIを叩くためのリクエストをするFaceAPIに\n",
    "import requests\n",
    "from PIL import Image"
   ]
  },
  {
   "cell_type": "code",
   "execution_count": 2,
   "id": "civilian-communications",
   "metadata": {},
   "outputs": [],
   "source": [
    "#jupyter lab\n",
    "#http://localhost:8888/lab"
   ]
  },
  {
   "cell_type": "code",
   "execution_count": 3,
   "id": "endangered-marina",
   "metadata": {},
   "outputs": [],
   "source": [
    "SUBSCRIPTION_KEY = \"e2746161389d4b508c211e384bf12e03\"\n",
    "assert SUBSCRIPTION_KEY"
   ]
  },
  {
   "cell_type": "code",
   "execution_count": 4,
   "id": "valued-rachel",
   "metadata": {},
   "outputs": [],
   "source": [
    "face_api_url = \"https://tori-sample.cognitiveservices.azure.com/face/v1.0/detect\""
   ]
  },
  {
   "cell_type": "code",
   "execution_count": 5,
   "id": "center-pressure",
   "metadata": {},
   "outputs": [],
   "source": [
    "#画像を読み込むpillow\n",
    "img = Image.open(\"s3.jpg\")\n",
    "#APIに送っても顔を検出してくれないので、バイナリデータにする。\n",
    "with open(\"s3.jpg\",\"rb\") as f:\n",
    "    binary_img = f.read()       #readメソッドで、バイナリデータに変換する。\n",
    "    "
   ]
  },
  {
   "cell_type": "code",
   "execution_count": null,
   "id": "ready-cover",
   "metadata": {},
   "outputs": [],
   "source": []
  },
  {
   "cell_type": "code",
   "execution_count": 6,
   "id": "contrary-hotel",
   "metadata": {},
   "outputs": [],
   "source": [
    "#face-apiの決まりのようなもの。face_api_urlが、直接URLになっているから。画像をおくりますよ！\n",
    "headers = {'Content-Type': 'application/octet-stream',\n",
    "           'Ocp-Apim-Subscription-Key': SUBSCRIPTION_KEY}\n",
    "params = {  \n",
    "    #'detectionModel':'detection_02'\n",
    "    'returnFaceId':'true',\n",
    "    #顔の位置情報以外に取ってくる。\n",
    "    'returnFaceAttributes':'age,gender,headPose,smile,facialHair,glasses,emotion,makeup,hair,noise'\n",
    "}\n",
    "\n",
    "res = requests.post(face_api_url ,params=params,\n",
    "                        headers=headers,data=binary_img)  #json={\"url\":image_url})"
   ]
  },
  {
   "cell_type": "code",
   "execution_count": 7,
   "id": "mighty-violation",
   "metadata": {},
   "outputs": [
    {
     "data": {
      "text/plain": [
       "<Response [200]>"
      ]
     },
     "execution_count": 7,
     "metadata": {},
     "output_type": "execute_result"
    }
   ],
   "source": [
    "res"
   ]
  },
  {
   "cell_type": "code",
   "execution_count": 8,
   "id": "intensive-picture",
   "metadata": {},
   "outputs": [],
   "source": [
    "result = res.json()"
   ]
  },
  {
   "cell_type": "code",
   "execution_count": 9,
   "id": "respiratory-universal",
   "metadata": {},
   "outputs": [
    {
     "data": {
      "text/plain": [
       "[{'faceId': '1b124528-2ee8-4d31-9543-bbf5a97162bb',\n",
       "  'faceRectangle': {'top': 73, 'left': 234, 'width': 104, 'height': 104},\n",
       "  'faceAttributes': {'smile': 1.0,\n",
       "   'headPose': {'pitch': -6.5, 'roll': 4.4, 'yaw': 8.2},\n",
       "   'gender': 'female',\n",
       "   'age': 27.0,\n",
       "   'facialHair': {'moustache': 0.0, 'beard': 0.0, 'sideburns': 0.0},\n",
       "   'glasses': 'NoGlasses',\n",
       "   'emotion': {'anger': 0.0,\n",
       "    'contempt': 0.0,\n",
       "    'disgust': 0.0,\n",
       "    'fear': 0.0,\n",
       "    'happiness': 1.0,\n",
       "    'neutral': 0.0,\n",
       "    'sadness': 0.0,\n",
       "    'surprise': 0.0},\n",
       "   'noise': {'noiseLevel': 'low', 'value': 0.0},\n",
       "   'makeup': {'eyeMakeup': True, 'lipMakeup': True},\n",
       "   'hair': {'bald': 0.25,\n",
       "    'invisible': False,\n",
       "    'hairColor': [{'color': 'black', 'confidence': 0.99},\n",
       "     {'color': 'brown', 'confidence': 0.88},\n",
       "     {'color': 'gray', 'confidence': 0.36},\n",
       "     {'color': 'other', 'confidence': 0.26},\n",
       "     {'color': 'blond', 'confidence': 0.13},\n",
       "     {'color': 'red', 'confidence': 0.02},\n",
       "     {'color': 'white', 'confidence': 0.0}]}}}]"
      ]
     },
     "execution_count": 9,
     "metadata": {},
     "output_type": "execute_result"
    }
   ],
   "source": [
    "result"
   ]
  },
  {
   "cell_type": "code",
   "execution_count": 10,
   "id": "useful-peoples",
   "metadata": {},
   "outputs": [],
   "source": [
    "#顔の位置を特定Face rectangle 位置情報。顔が１つだから[0]\n",
    "rect = result[0][\"faceRectangle\"]"
   ]
  },
  {
   "cell_type": "code",
   "execution_count": 11,
   "id": "ahead-kidney",
   "metadata": {},
   "outputs": [],
   "source": [
    "from PIL import ImageDraw"
   ]
  },
  {
   "cell_type": "code",
   "execution_count": 12,
   "id": "inside-gentleman",
   "metadata": {},
   "outputs": [],
   "source": [
    "#線を描くための準備（なにに対して線を描くのか）（引数に指定）\n",
    "draw = ImageDraw.Draw(img)"
   ]
  },
  {
   "cell_type": "code",
   "execution_count": 13,
   "id": "grave-canyon",
   "metadata": {},
   "outputs": [
    {
     "data": {
      "text/plain": [
       "{'top': 73, 'left': 234, 'width': 104, 'height': 104}"
      ]
     },
     "execution_count": 13,
     "metadata": {},
     "output_type": "execute_result"
    }
   ],
   "source": [
    "rect"
   ]
  },
  {
   "cell_type": "code",
   "execution_count": 14,
   "id": "bulgarian-spencer",
   "metadata": {},
   "outputs": [],
   "source": [
    "\n",
    "draw.rectangle([(rect['left'],rect['top']),(rect['left']+rect['width'],rect['top']+rect['height'])],\n",
    "              fill=None,outline=\"green\",width=5)"
   ]
  },
  {
   "cell_type": "code",
   "execution_count": 15,
   "id": "turned-model",
   "metadata": {},
   "outputs": [
    {
     "ename": "ValueError",
     "evalue": "unknown file extension: ",
     "output_type": "error",
     "traceback": [
      "\u001b[0;31m---------------------------------------------------------------------------\u001b[0m",
      "\u001b[0;31mKeyError\u001b[0m                                  Traceback (most recent call last)",
      "\u001b[0;32m/Library/Frameworks/Python.framework/Versions/3.8/lib/python3.8/site-packages/PIL/Image.py\u001b[0m in \u001b[0;36msave\u001b[0;34m(self, fp, format, **params)\u001b[0m\n\u001b[1;32m   2143\u001b[0m             \u001b[0;32mtry\u001b[0m\u001b[0;34m:\u001b[0m\u001b[0;34m\u001b[0m\u001b[0;34m\u001b[0m\u001b[0m\n\u001b[0;32m-> 2144\u001b[0;31m                 \u001b[0mformat\u001b[0m \u001b[0;34m=\u001b[0m \u001b[0mEXTENSION\u001b[0m\u001b[0;34m[\u001b[0m\u001b[0mext\u001b[0m\u001b[0;34m]\u001b[0m\u001b[0;34m\u001b[0m\u001b[0;34m\u001b[0m\u001b[0m\n\u001b[0m\u001b[1;32m   2145\u001b[0m             \u001b[0;32mexcept\u001b[0m \u001b[0mKeyError\u001b[0m \u001b[0;32mas\u001b[0m \u001b[0me\u001b[0m\u001b[0;34m:\u001b[0m\u001b[0;34m\u001b[0m\u001b[0;34m\u001b[0m\u001b[0m\n",
      "\u001b[0;31mKeyError\u001b[0m: ''",
      "\nThe above exception was the direct cause of the following exception:\n",
      "\u001b[0;31mValueError\u001b[0m                                Traceback (most recent call last)",
      "\u001b[0;32m<ipython-input-15-9e382ba0db54>\u001b[0m in \u001b[0;36m<module>\u001b[0;34m\u001b[0m\n\u001b[1;32m     16\u001b[0m \u001b[0;34m\u001b[0m\u001b[0m\n\u001b[1;32m     17\u001b[0m \u001b[0;32mwith\u001b[0m \u001b[0mio\u001b[0m\u001b[0;34m.\u001b[0m\u001b[0mBytesIO\u001b[0m\u001b[0;34m(\u001b[0m\u001b[0;34m)\u001b[0m \u001b[0;32mas\u001b[0m \u001b[0moutput\u001b[0m\u001b[0;34m:\u001b[0m\u001b[0;34m\u001b[0m\u001b[0;34m\u001b[0m\u001b[0m\n\u001b[0;32m---> 18\u001b[0;31m     \u001b[0mimg\u001b[0m\u001b[0;34m.\u001b[0m\u001b[0msave\u001b[0m\u001b[0;34m(\u001b[0m\u001b[0moutput\u001b[0m\u001b[0;34m)\u001b[0m\u001b[0;34m\u001b[0m\u001b[0;34m\u001b[0m\u001b[0m\n\u001b[0m\u001b[1;32m     19\u001b[0m \u001b[0mio\u001b[0m\u001b[0;34m.\u001b[0m\u001b[0mBytesIO\u001b[0m\u001b[0;34m(\u001b[0m\u001b[0;34m)\u001b[0m\u001b[0;34m\u001b[0m\u001b[0;34m\u001b[0m\u001b[0m\n\u001b[1;32m     20\u001b[0m \u001b[0;31m#face-apiの決まりのようなもの。face_api_urlが、直接URLになっているから。画像をおくりますよ！\u001b[0m\u001b[0;34m\u001b[0m\u001b[0;34m\u001b[0m\u001b[0;34m\u001b[0m\u001b[0m\n",
      "\u001b[0;32m/Library/Frameworks/Python.framework/Versions/3.8/lib/python3.8/site-packages/PIL/Image.py\u001b[0m in \u001b[0;36msave\u001b[0;34m(self, fp, format, **params)\u001b[0m\n\u001b[1;32m   2144\u001b[0m                 \u001b[0mformat\u001b[0m \u001b[0;34m=\u001b[0m \u001b[0mEXTENSION\u001b[0m\u001b[0;34m[\u001b[0m\u001b[0mext\u001b[0m\u001b[0;34m]\u001b[0m\u001b[0;34m\u001b[0m\u001b[0;34m\u001b[0m\u001b[0m\n\u001b[1;32m   2145\u001b[0m             \u001b[0;32mexcept\u001b[0m \u001b[0mKeyError\u001b[0m \u001b[0;32mas\u001b[0m \u001b[0me\u001b[0m\u001b[0;34m:\u001b[0m\u001b[0;34m\u001b[0m\u001b[0;34m\u001b[0m\u001b[0m\n\u001b[0;32m-> 2146\u001b[0;31m                 \u001b[0;32mraise\u001b[0m \u001b[0mValueError\u001b[0m\u001b[0;34m(\u001b[0m\u001b[0;34mf\"unknown file extension: {ext}\"\u001b[0m\u001b[0;34m)\u001b[0m \u001b[0;32mfrom\u001b[0m \u001b[0me\u001b[0m\u001b[0;34m\u001b[0m\u001b[0;34m\u001b[0m\u001b[0m\n\u001b[0m\u001b[1;32m   2147\u001b[0m \u001b[0;34m\u001b[0m\u001b[0m\n\u001b[1;32m   2148\u001b[0m         \u001b[0;32mif\u001b[0m \u001b[0mformat\u001b[0m\u001b[0;34m.\u001b[0m\u001b[0mupper\u001b[0m\u001b[0;34m(\u001b[0m\u001b[0;34m)\u001b[0m \u001b[0;32mnot\u001b[0m \u001b[0;32min\u001b[0m \u001b[0mSAVE\u001b[0m\u001b[0;34m:\u001b[0m\u001b[0;34m\u001b[0m\u001b[0;34m\u001b[0m\u001b[0m\n",
      "\u001b[0;31mValueError\u001b[0m: unknown file extension: "
     ]
    }
   ],
   "source": [
    "#APIを叩くためのリクエストをするFaceAPIに\n",
    "import requests\n",
    "from PIL import Image\n",
    "from PIL import ImageDraw\n",
    "#データの入出力をするときなどに使う\n",
    "import io\n",
    "SUBSCRIPTION_KEY = \"e2746161389d4b508c211e384bf12e03\"\n",
    "assert SUBSCRIPTION_KEY\n",
    "face_api_url = \"https://tori-sample.cognitiveservices.azure.com/face/v1.0/detect\"\n",
    "\n",
    "#画像を読み込むpillow\n",
    "img = Image.open(\"s4.jpg\")\n",
    "#APIに送っても顔を検出してくれないので、バイナリデータにする。\n",
    "#with open(\"s4.jpg\",\"rb\") as f:\n",
    "#    binary_img = f.read()       #readメソッドで、バイナリデータに変換する。\n",
    "    \n",
    "with io.BytesIO() as output:\n",
    "    img.save(output,format=\"JPEG\") \n",
    "    binary_img = output.getvalue() #バイナリデータを取得\n",
    "#io.BytesIO() \n",
    "#face-apiの決まりのようなもの。face_api_urlが、直接URLになっているから。画像をおくりますよ！\n",
    "headers = {'Content-Type': 'application/octet-stream',\n",
    "           'Ocp-Apim-Subscription-Key': SUBSCRIPTION_KEY}\n",
    "params = {  \n",
    "    #'detectionModel':'detection_02'\n",
    "    'returnFaceId':'true',\n",
    "    #顔の位置情報以外に取ってくる。\n",
    "    'returnFaceAttributes':'age,gender,headPose,smile,facialHair,glasses,emotion,makeup,hair,noise'\n",
    "}\n",
    "\n",
    "res = requests.post(face_api_url ,params=params,\n",
    "                        headers=headers,data=binary_img)  #json={\"url\":image_url})\n",
    "\n",
    "#複数人いる場合を想定して、for文で回す。\n",
    "results = res.json()\n",
    "\n",
    "for result in results:\n",
    "    #顔の位置を特定Face rectangle 位置情報。顔が１つだから[0]\n",
    "    rect = result[\"faceRectangle\"]\n",
    "    \n",
    "\n",
    "    gen = result[\"faceAttributes\"][\"gender\"]\n",
    "    #gen = '男' if gen == \"male\" else \"女\"\n",
    "    #if  gen == \"male\":\n",
    "    #    gen = '男'\n",
    "    #else:\n",
    "    #    gen = '女'     \n",
    "    age = str(result[\"faceAttributes\"][\"age\"])\n",
    "    #text = f\"{gen}・{age}\"\n",
    "    #線を描くための準備（なにに対して線を描くのか）（引数に指定）\n",
    "    draw = ImageDraw.Draw(img)\n",
    "    print(gen)\n",
    "    #print(age)\n",
    "    draw.rectangle([(rect['left'],rect['top']),(rect['left']+rect['width'],rect['top']+rect['height'])],\n",
    "              fill=None,outline=\"green\",width=5)\n",
    "    draw.text((rect['left'],rect['top']-15),gen + age,fill='yellow', align='center')\n",
    "img"
   ]
  }
 ],
 "metadata": {
  "kernelspec": {
   "display_name": "Python 3",
   "language": "python",
   "name": "python3"
  },
  "language_info": {
   "codemirror_mode": {
    "name": "ipython",
    "version": 3
   },
   "file_extension": ".py",
   "mimetype": "text/x-python",
   "name": "python",
   "nbconvert_exporter": "python",
   "pygments_lexer": "ipython3",
   "version": "3.8.5"
  }
 },
 "nbformat": 4,
 "nbformat_minor": 5
}
